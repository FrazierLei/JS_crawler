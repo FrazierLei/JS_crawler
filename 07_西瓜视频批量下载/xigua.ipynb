{
 "cells": [
  {
   "cell_type": "markdown",
   "metadata": {},
   "source": [
    "# 获取视频列表"
   ]
  },
  {
   "cell_type": "code",
   "execution_count": 1,
   "metadata": {},
   "outputs": [],
   "source": [
    "import os\n",
    "import re\n",
    "import requests"
   ]
  },
  {
   "cell_type": "code",
   "execution_count": 2,
   "metadata": {},
   "outputs": [],
   "source": [
    "def get_signature(url):\n",
    "    sign = os.popen('node xigua.js {url}'.format(url='\"'+url+'\"')).read()\n",
    "    return sign"
   ]
  },
  {
   "cell_type": "code",
   "execution_count": 3,
   "metadata": {},
   "outputs": [],
   "source": [
    "def get_video_list(max_time=0):\n",
    "    main_url = 'https://www.ixigua.com/home/75436727443/'\n",
    "   # 初始化 session\n",
    "    sess = requests.Session()\n",
    "    sess.headers.update({\n",
    "        'user-agent': 'Mozilla/5.0 (Macintosh; Intel Mac OS X 11_1_0) AppleWebKit/537.36 (KHTML, like Gecko) Chrome/87.0.4280.88 Safari/537.36',\n",
    "        'referer': 'https://www.ixigua.com/home/75436727443/',\n",
    "    })\n",
    "\n",
    "    # 获取 cookies\n",
    "    sess.get('https://i.snssdk.com/slardar/sdk.js?bid=xigua_video_web_pc')\n",
    "    data = '{\"region\":\"cn\",\"aid\":1768,\"needFid\":false,\"service\":\"www.ixigua.com\",\"migrate_info\":{\"ticket\":\"\",\"source\":\"node\"},\"cbUrlProtocol\":\"https\",\"union\":true}'\n",
    "    sess.post('https://ttwid.bytedance.com/ttwid/union/register/', data=data)\n",
    "    \n",
    "    # 从 html 中获取 token ，并更新 headers\n",
    "    # 若提示 referer异常，可重新初始化 session，然后导入上一步获取的 cookies\n",
    "    # 或索性将 tt-anti-token 置为空字符串\n",
    "    resp = sess.get(main_url)\n",
    "    try:\n",
    "        token = re.search('\"csrfToken\":\"(.*?)\",\"isLogin\"', resp.text).group(1)\n",
    "    except:\n",
    "        token = ''\n",
    "    sess.headers.update({'tt-anti-token': token})\n",
    "\n",
    "    # 获取视频信息\n",
    "    params = {\n",
    "        'author_id': '75436727443',\n",
    "        'type': 'video',\n",
    "        'max_time': max_time,\n",
    "        '_signature': get_signature(\"/api/videov2/author/video\")\n",
    "    }\n",
    "\n",
    "    resp = sess.get('https://www.ixigua.com/api/videov2/author/video', params=params)\n",
    "    \n",
    "    # 返回解析后的数据\n",
    "    resp_json = resp.json()\n",
    "    if resp_json['data']['message'] == \"success\":\n",
    "        return resp_json['data']['data']\n",
    "    else:\n",
    "        print('视频获取失败。')\n",
    "        return None"
   ]
  },
  {
   "cell_type": "code",
   "execution_count": 4,
   "metadata": {
    "collapsed": true,
    "jupyter": {
     "outputs_hidden": true
    }
   },
   "outputs": [
    {
     "name": "stdout",
     "output_type": "stream",
     "text": [
      "0 30\n",
      "1609312789 30\n",
      "1608687239 30\n",
      "1608020742 30\n",
      "1607401931 30\n",
      "1606785031 30\n",
      "1606119137 30\n",
      "1605488994 30\n",
      "1604821439 30\n",
      "1604191656 30\n",
      "1603522006 30\n",
      "1602895573 30\n",
      "1602132010 30\n",
      "1601339840 30\n",
      "1600489597 30\n",
      "1599628411 30\n",
      "1598781173 30\n",
      "1597968479 30\n",
      "1597116763 30\n",
      "1596257086 30\n",
      "1595392469 30\n",
      "1594525853 30\n",
      "1593508467 30\n",
      "1592269890 30\n",
      "1590986926 30\n",
      "1589693451 30\n",
      "1587971543 30\n",
      "1585755369 30\n",
      "1584607859 19\n"
     ]
    }
   ],
   "source": [
    "all_video_urls = []\n",
    "max_time = 0\n",
    "\n",
    "while True:\n",
    "    data = get_video_list(max_time=max_time)\n",
    "    if data:\n",
    "        print(max_time, len(data))\n",
    "        try:\n",
    "            video_urls = ['https://www.ixigua.com'+i['article_url'].split('group')[1] for i in data]\n",
    "        except:\n",
    "            video_urls = [i['article_url'] for i in data]\n",
    "        all_video_urls.extend(video_urls)\n",
    "        # 更新 max_time\n",
    "        max_time = data[-1]['publish_time']\n",
    "    # 若 data 为空列表，退出死循环\n",
    "    else:\n",
    "        break"
   ]
  },
  {
   "cell_type": "code",
   "execution_count": 5,
   "metadata": {},
   "outputs": [
    {
     "data": {
      "text/plain": [
       "859"
      ]
     },
     "execution_count": 5,
     "metadata": {},
     "output_type": "execute_result"
    }
   ],
   "source": [
    "len(all_video_urls)"
   ]
  },
  {
   "cell_type": "markdown",
   "metadata": {},
   "source": [
    "# 批量下载视频"
   ]
  },
  {
   "cell_type": "code",
   "execution_count": 6,
   "metadata": {},
   "outputs": [],
   "source": [
    "import os\n",
    "from tqdm.notebook import tqdm\n",
    "\n",
    "def download_from_url(url, save_path):\n",
    "    response = requests.get(url, stream=True) \n",
    "    file_size = int(response.headers['content-length']) \n",
    "    if os.path.exists(save_path):\n",
    "        first_byte = os.path.getsize(save_path) \n",
    "    else:\n",
    "        first_byte = 0\n",
    "    if first_byte >= file_size: \n",
    "        return file_size\n",
    "    header = {\"Range\": f\"bytes={first_byte}-{file_size}\"} \n",
    "    pbar = tqdm(\n",
    "        total=file_size, initial=first_byte,\n",
    "        unit='B', unit_scale=True, desc=save_path)\n",
    "    req = requests.get(url, headers=header, stream=True) \n",
    "    with(open(save_path, 'ab')) as f:\n",
    "        for chunk in req.iter_content(chunk_size=1024): \n",
    "            if chunk:\n",
    "                f.write(chunk)\n",
    "                pbar.update(1024)\n",
    "    pbar.close()\n",
    "    return file_size"
   ]
  },
  {
   "cell_type": "code",
   "execution_count": null,
   "metadata": {},
   "outputs": [],
   "source": [
    "for url in all_video_urls:\n",
    "    params = {\n",
    "        'url': url, \n",
    "        'select': 'ixigua'\n",
    "    }\n",
    "\n",
    "    r = requests.get('https://www.videofk.com/ixigua-video-download/search', params=params)\n",
    "\n",
    "    # 获取视频地址\n",
    "    video_url = re.search('data-video=\"(.*?)\"', r.text).group(1)\n",
    "    video_url = video_url.replace('amp;', '')\n",
    "\n",
    "    # 获取视频题目\n",
    "    video_title = re.search('data-title=\"(.*?)\"/>\\n', r.text).group(1)\n",
    "    print(f'开始下载「{video_title}」......')\n",
    "    download_from_url(video_url, './videos/'+video_title+'.mp4')"
   ]
  }
 ],
 "metadata": {
  "kernelspec": {
   "display_name": "Python 3",
   "language": "python",
   "name": "python3"
  },
  "language_info": {
   "codemirror_mode": {
    "name": "ipython",
    "version": 3
   },
   "file_extension": ".py",
   "mimetype": "text/x-python",
   "name": "python",
   "nbconvert_exporter": "python",
   "pygments_lexer": "ipython3",
   "version": "3.8.3"
  }
 },
 "nbformat": 4,
 "nbformat_minor": 4
}
