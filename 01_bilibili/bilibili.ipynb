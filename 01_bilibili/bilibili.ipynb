{
 "cells": [
  {
   "cell_type": "code",
   "execution_count": 1,
   "metadata": {},
   "outputs": [],
   "source": [
    "import re\n",
    "import requests\n",
    "import json\n",
    "import math\n",
    "import random\n",
    "import execjs\n",
    "from IPython.display import Video\n",
    "import warnings\n",
    "warnings.filterwarnings(\"ignore\")\n",
    "\n",
    "# 获取up主视频部分代码来自：https://github.com/Jack-Cherish/python-spider/tree/master/2020/bilibili\n",
    "def get_all_videos():\n",
    "    space_url = 'https://space.bilibili.com/8981370'\n",
    "    search_url = 'https://api.bilibili.com/x/space/arc/search'\n",
    "    mid = space_url.split('/')[-1]\n",
    "    sess = requests.Session()\n",
    "    search_headers = {\n",
    "        'User-Agent':\n",
    "        'Mozilla/5.0 (Windows NT 10.0; WOW64) AppleWebKit/537.36 (KHTML, like Gecko) Chrome/64.0.3282.167 Safari/537.36',\n",
    "        'Accept-Language': 'zh-CN,zh;q=0.9',\n",
    "        'Accept-Encoding': 'gzip, deflate, br',\n",
    "        'Accept': 'application/json, text/plain, */*'\n",
    "    }\n",
    "\n",
    "    # 获取视频个数\n",
    "    ps = 1\n",
    "    pn = 1\n",
    "    search_params = {'mid': mid, 'ps': ps, 'tid': 0, 'pn': pn}\n",
    "    req = sess.get(url=search_url,\n",
    "                   headers=search_headers,\n",
    "                   params=search_params,\n",
    "                   verify=False)\n",
    "    info = json.loads(req.text)\n",
    "    video_count = info['data']['page']['count']\n",
    "\n",
    "    ps = 10\n",
    "    page = math.ceil(video_count / ps)\n",
    "    videos_list = []\n",
    "    for pn in range(1, page + 1):\n",
    "        search_params = {'mid': mid, 'ps': ps, 'tid': 0, 'pn': pn}\n",
    "        req = sess.get(url=search_url,\n",
    "                       headers=search_headers,\n",
    "                       params=search_params,\n",
    "                       verify=False)\n",
    "        info = json.loads(req.text)\n",
    "        vlist = info['data']['list']['vlist']\n",
    "        for video in vlist:\n",
    "            title = video['title']\n",
    "            bvid = video['bvid']\n",
    "            vurl = 'https://www.bilibili.com/video/' + bvid\n",
    "            videos_list.append([title, vurl])\n",
    "    return videos_list\n",
    "\n",
    "\n",
    "def get_js_function(js_path, func_name, *args):\n",
    "    with open(js_path, encoding='utf-8') as fp:\n",
    "        js = fp.read()\n",
    "        ctx = execjs.compile(js)\n",
    "        return ctx.call(func_name, *args)\n",
    "\n",
    "\n",
    "def get_random_video():\n",
    "    url = random.choice(get_all_videos())[1]\n",
    "    r = requests.get('http://api.bilibili.com/x/web-interface/view?bvid=' +\n",
    "                     url.split('/')[-1])\n",
    "    title = r.json()['data']['title']\n",
    "    desc = r.json()['data']['desc']\n",
    "    print('\\033[1;31m即将播放：\\033[0m', title, '\\n\\033[1;31m描述：\\033[0m', desc)\n",
    "    \n",
    "    # 注意bilibiliurl11182这个参数名经常变化，需要重新抓包测试\n",
    "    data = {'bilibiliurl11182': url, 'zengqiang': 'true'}\n",
    "\n",
    "    r = requests.post(\n",
    "        'https://xbeibeix.com/api/bilibili/',\n",
    "        headers={'content-type': 'application/x-www-form-urlencoded'},\n",
    "        data=data)\n",
    "    hahaha = re.search(\"hahaha = '(.*?)';\", r.text).group(1)\n",
    "    download_url = get_js_function('bilibili.js', 'decrypt', hahaha)\n",
    "    return download_url"
   ]
  },
  {
   "cell_type": "code",
   "execution_count": 2,
   "metadata": {},
   "outputs": [
    {
     "name": "stdout",
     "output_type": "stream",
     "text": [
      "\u001b[1;31m即将播放：\u001b[0m 【笑傲江湖】一万个舍不得 \n",
      "\u001b[1;31m描述：\u001b[0m 《一万个舍不得》 原唱：庄心妍\n",
      "填词/调音/剪辑：傲视在俗世上    每个人都有自己的【舍不得】，而【断舍离】却是人生的必修课。\n",
      "黄绿合战Day.4 对阵作品：av60140098 投票传送门：https://www.bilibili.com/blackboard/activity-yellowVSgreen4th.html\n"
     ]
    },
    {
     "data": {
      "text/html": [
       "<video src=\"http://upos-sz-mirrorcos.bilivideo.com/upgcxcode/48/25/104702548/104702548-1-192.mp4?e=ig8euxZM2rNcNbRjhwdVhwdlhWTVhwdVhoNvNC8BqJIzNbfq9rVEuxTEnE8L5F6VnEsSTx0vkX8fqJeYTj_lta53NCM=&uipk=5&nbs=1&deadline=1606759437&gen=playurl&os=cosbv&oi=978800370&trid=99ff141316ee49d0bdc1a49bba0a4fd2T&platform=html5&upsig=8652c62a8ff26be4b503f4ecfda21e5a&uparams=e,uipk,nbs,deadline,gen,os,oi,trid,platform&mid=524602686&orderid=0,1&logo=80000000\" controls  width=\"1000\"  height=\"600\">\n",
       "      Your browser does not support the <code>video</code> element.\n",
       "    </video>"
      ],
      "text/plain": [
       "<IPython.core.display.Video object>"
      ]
     },
     "execution_count": 2,
     "metadata": {},
     "output_type": "execute_result"
    }
   ],
   "source": [
    "url = get_random_video()\n",
    "Video(url, width=1000, height=600)"
   ]
  },
  {
   "cell_type": "code",
   "execution_count": null,
   "metadata": {},
   "outputs": [],
   "source": []
  },
  {
   "cell_type": "code",
   "execution_count": null,
   "metadata": {},
   "outputs": [],
   "source": []
  }
 ],
 "metadata": {
  "kernelspec": {
   "display_name": "Python 3",
   "language": "python",
   "name": "python3"
  },
  "language_info": {
   "codemirror_mode": {
    "name": "ipython",
    "version": 3
   },
   "file_extension": ".py",
   "mimetype": "text/x-python",
   "name": "python",
   "nbconvert_exporter": "python",
   "pygments_lexer": "ipython3",
   "version": "3.8.3"
  },
  "toc": {
   "base_numbering": 1,
   "nav_menu": {},
   "number_sections": true,
   "sideBar": true,
   "skip_h1_title": false,
   "title_cell": "Table of Contents",
   "title_sidebar": "Contents",
   "toc_cell": false,
   "toc_position": {},
   "toc_section_display": true,
   "toc_window_display": false
  },
  "varInspector": {
   "cols": {
    "lenName": 16,
    "lenType": 16,
    "lenVar": 40
   },
   "kernels_config": {
    "python": {
     "delete_cmd_postfix": "",
     "delete_cmd_prefix": "del ",
     "library": "var_list.py",
     "varRefreshCmd": "print(var_dic_list())"
    },
    "r": {
     "delete_cmd_postfix": ") ",
     "delete_cmd_prefix": "rm(",
     "library": "var_list.r",
     "varRefreshCmd": "cat(var_dic_list()) "
    }
   },
   "types_to_exclude": [
    "module",
    "function",
    "builtin_function_or_method",
    "instance",
    "_Feature"
   ],
   "window_display": false
  }
 },
 "nbformat": 4,
 "nbformat_minor": 4
}
